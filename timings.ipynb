{
 "cells": [
  {
   "cell_type": "markdown",
   "metadata": {},
   "source": [
    "# Testbed for various timings that we need to know"
   ]
  },
  {
   "cell_type": "code",
   "execution_count": null,
   "metadata": {
    "collapsed": true
   },
   "outputs": [],
   "source": [
    "import numpy\n",
    "import timeit"
   ]
  },
  {
   "cell_type": "markdown",
   "metadata": {
    "collapsed": true
   },
   "source": [
    "### Reshape"
   ]
  },
  {
   "cell_type": "code",
   "execution_count": null,
   "metadata": {
    "collapsed": false,
    "scrolled": false
   },
   "outputs": [],
   "source": [
    "print(\"Wallclock time = %.3f milliseconds\" % timeit.timeit('A = numpy.reshape(A, [2 * nstations * nstations, nnoll])', \n",
    "                    setup = 'import numpy;nstations=512;nnoll=4000;A=numpy.ones([nstations, nstations, 2, nnoll])',\n",
    "                    number=1000))"
   ]
  },
  {
   "cell_type": "code",
   "execution_count": null,
   "metadata": {
    "collapsed": false,
    "scrolled": true
   },
   "outputs": [],
   "source": [
    "print(\"Wallclock time = %.3f milliseconds\" % timeit.timeit('A = numpy.reshape(A, [nnoll, 2 * nstations * nstations])', \n",
    "                    setup = 'import numpy;nstations=512;nnoll=4000;A=numpy.ones([nnoll, 2, nstations, nstations])',\n",
    "                    number=1000))"
   ]
  },
  {
   "cell_type": "code",
   "execution_count": null,
   "metadata": {
    "collapsed": false
   },
   "outputs": [],
   "source": [
    "print(\"Wallclock time = %.3f milliseconds\" % timeit.timeit('A = numpy.reshape(A, [2 * nstations * nstations, nnoll])', \n",
    "                    setup = 'import numpy;nstations=512;nnoll=4000;A=numpy.ones([nnoll, 2, nstations, nstations])',\n",
    "                    number=1000))"
   ]
  },
  {
   "cell_type": "markdown",
   "metadata": {},
   "source": [
    "### Transpose"
   ]
  },
  {
   "cell_type": "code",
   "execution_count": null,
   "metadata": {
    "collapsed": false
   },
   "outputs": [],
   "source": [
    "print(\"Wallclock time = %.3f milliseconds\" % \n",
    "      timeit.timeit('AT = A.T', \n",
    "                    setup = 'import numpy;nstations=512;nnoll=4000;A=numpy.ones([nnoll, 2*nstations*nstations])',\n",
    "                    number=1000))"
   ]
  },
  {
   "cell_type": "markdown",
   "metadata": {},
   "source": [
    "### Numpy dot is expensive but called only once"
   ]
  },
  {
   "cell_type": "code",
   "execution_count": null,
   "metadata": {
    "collapsed": false
   },
   "outputs": [],
   "source": [
    "print(\"Wallclock time = %.3f seconds\" % \n",
    "      timeit.timeit('AAT=numpy.dot(A,A.T)', \n",
    "                    setup = 'import numpy;nstations=512;nnoll=4000;A=numpy.ones([nnoll, 2*nstations*nstations])',\n",
    "                    number=1))"
   ]
  },
  {
   "cell_type": "markdown",
   "metadata": {},
   "source": [
    "### Time for an outer product is small but these are called very often"
   ]
  },
  {
   "cell_type": "code",
   "execution_count": null,
   "metadata": {
    "collapsed": false
   },
   "outputs": [],
   "source": [
    "print(\"Wallclock time = %.3f milliseconds\" % \n",
    "      timeit.timeit('VouterV=numpy.outer(CV[500,:],numpy.conj(CV[500,:]))', \n",
    "                    setup = \"import numpy;nstations=512;nnoll=4000;nsources=1000;CV=numpy.ones([nsources,nstations], dtype='complex')\",\n",
    "                    number=1000))"
   ]
  },
  {
   "cell_type": "markdown",
   "metadata": {},
   "source": [
    "### And the other way?"
   ]
  },
  {
   "cell_type": "code",
   "execution_count": null,
   "metadata": {
    "collapsed": false
   },
   "outputs": [],
   "source": [
    "print(\"Wallclock time = %.3f milliseconds\" % \n",
    "      timeit.timeit('VouterV=numpy.outer(CV[:,500],numpy.conj(CV[:,500]))', \n",
    "                    setup = \"import numpy;nstations=512;nnoll=4000;nsources=1000;CV=numpy.ones([nstations,nsources], dtype='complex')\",\n",
    "                    number=1000))"
   ]
  },
  {
   "cell_type": "code",
   "execution_count": null,
   "metadata": {
    "collapsed": false
   },
   "outputs": [],
   "source": [
    "print(\"Wallclock time = %.3f milliseconds\" % \n",
    "      timeit.timeit('VouterV=numpy.outer(CV,numpy.conj(CV))', \n",
    "                    setup = \"import numpy;nstations=512;nnoll=4000;CV=numpy.ones([nstations], dtype='complex')\",\n",
    "                    number=1000))"
   ]
  },
  {
   "cell_type": "markdown",
   "metadata": {
    "collapsed": true
   },
   "source": [
    "### Exponentiation"
   ]
  },
  {
   "cell_type": "code",
   "execution_count": null,
   "metadata": {
    "collapsed": false
   },
   "outputs": [],
   "source": [
    "print(\"Wallclock time = %.4f microseconds\" % \n",
    "      timeit.timeit('res=numpy.power(r, 17)', \n",
    "                    setup = \"import numpy;r=numpy.array([0.5]*1000000);\",\n",
    "                    number=1))"
   ]
  },
  {
   "cell_type": "code",
   "execution_count": null,
   "metadata": {
    "collapsed": false
   },
   "outputs": [],
   "source": [
    "print(\"Wallclock time = %.4f microseconds\" % \n",
    "      timeit.timeit('r**17', \n",
    "                    setup = \"r=0.5\",\n",
    "                    number=1000000))"
   ]
  },
  {
   "cell_type": "code",
   "execution_count": null,
   "metadata": {
    "collapsed": false
   },
   "outputs": [],
   "source": [
    "print(\"Wallclock time = %.4f microseconds\" % \n",
    "      timeit.timeit('fastpower.power(r, 17)', \n",
    "                    setup = \"import fastpower;r=0.5;\",\n",
    "                    number=1000000))"
   ]
  }
 ],
 "metadata": {
  "kernelspec": {
   "display_name": "Python 3",
   "language": "python",
   "name": "python3"
  },
  "language_info": {
   "codemirror_mode": {
    "name": "ipython",
    "version": 3
   },
   "file_extension": ".py",
   "mimetype": "text/x-python",
   "name": "python",
   "nbconvert_exporter": "python",
   "pygments_lexer": "ipython3",
   "version": "3.5.1"
  },
  "widgets": {
   "state": {},
   "version": "1.1.2"
  }
 },
 "nbformat": 4,
 "nbformat_minor": 0
}
